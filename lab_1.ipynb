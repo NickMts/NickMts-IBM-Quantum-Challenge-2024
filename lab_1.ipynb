{
 "cells": [
  {
   "cell_type": "code",
   "execution_count": null,
   "id": "e80889e7-b894-4b0b-ab62-4334aee3ed1d",
   "metadata": {},
   "outputs": [],
   "source": [
    "# imports\n",
    "import numpy as np\n",
    "from typing import List, Callable\n",
    "from scipy.optimize import minimize\n",
    "from scipy.optimize._optimize import OptimizeResult\n",
    "import matplotlib.pyplot as plt\n",
    "\n",
    "from qiskit import QuantumCircuit, QuantumRegister\n",
    "from qiskit.quantum_info import Statevector, Operator, SparsePauliOp\n",
    "from qiskit.primitives import StatevectorSampler, PrimitiveJob\n",
    "from qiskit.circuit.library import TwoLocal\n",
    "from qiskit.transpiler.preset_passmanagers import generate_preset_pass_manager\n",
    "from qiskit.visualization import plot_histogram\n",
    "from qiskit_ibm_runtime.fake_provider import FakeSherbrooke\n",
    "from qiskit_ibm_runtime import Session, EstimatorV2 as Estimator\n",
    "from qiskit_aer import AerSimulator"
   ]
  },
  {
   "cell_type": "code",
   "execution_count": null,
   "id": "c84c229e-e8a5-4047-973d-fa00b806cfb5",
   "metadata": {},
   "outputs": [],
   "source": [
    "# Setup the grader\n",
    "from qc_grader.challenges.iqc_2024 import (\n",
    "    grade_lab1_ex1,\n",
    "    grade_lab1_ex2,\n",
    "    grade_lab1_ex3,\n",
    "    grade_lab1_ex4,\n",
    "    grade_lab1_ex5,\n",
    "    grade_lab1_ex6,\n",
    "    grade_lab1_ex7,\n",
    ")"
   ]
  },
  {
   "cell_type": "code",
   "execution_count": null,
   "id": "64f86efe-480b-4763-8168-394b1e31022a",
   "metadata": {},
   "outputs": [],
   "source": [
    "# Build a circuit to form a psi-minus Bell state\n",
    "# Apply gates to the provided QuantumCircuit, qc\n",
    "qbit1 = QuantumRegister(1)\n",
    "qbit2 = QuantumRegister(1)\n",
    "qc = QuantumCircuit(qbit1, qbit2)\n",
    "\n",
    "qc.h(qbit1)\n",
    "qc.cx(qbit1, qbit2)\n",
    "qc.z(qbit1)\n",
    "qc.x(qbit2)\n",
    "### Write your code below here ###\n",
    "\n",
    "\n",
    "\n",
    "### Don't change any code past this line ###\n",
    "qc.measure_all()\n",
    "qc.draw('mpl')"
   ]
  },
  {
   "cell_type": "code",
   "execution_count": null,
   "id": "f5947423-b26b-4a07-9a0b-4803dbc5024e",
   "metadata": {},
   "outputs": [],
   "source": [
    "%set_env QXToken=\n"
   ]
  },
  {
   "cell_type": "code",
   "execution_count": null,
   "id": "884c6a9a-c1d6-4dd4-98b9-8717837591d7",
   "metadata": {},
   "outputs": [],
   "source": [
    "!pip install git+https://github.com/qiskit-community/Quantum-Challenge-Grader.git"
   ]
  },
  {
   "cell_type": "code",
   "execution_count": null,
   "id": "6cff9211-7422-4e5e-8abc-e7485580c891",
   "metadata": {},
   "outputs": [],
   "source": [
    "grade_lab1_ex1(qc)"
   ]
  },
  {
   "cell_type": "code",
   "execution_count": null,
   "id": "25a19cb0-0d23-4a0a-aece-1eb04e0e3b8e",
   "metadata": {},
   "outputs": [],
   "source": [
    "qc.measure_all()\n",
    "\n",
    "### Write your code below here ###\n",
    "from qiskit_aer.primitives import Sampler\n",
    "\n",
    "\n",
    "sampler = StatevectorSampler()\n",
    "pub = (qc)\n",
    "job_sampler =  sampler.run([pub], shots = 256)\n",
    "\n",
    "\n",
    "### Don't change any code past this line ###\n",
    "\n",
    "result_sampler = job_sampler.result()\n",
    "counts_sampler = result_sampler[0].data.meas.get_counts()\n",
    "\n",
    "print(counts_sampler)"
   ]
  },
  {
   "cell_type": "code",
   "execution_count": null,
   "id": "a15e1f4e-c75e-48ae-bd5b-2846262ceccd",
   "metadata": {},
   "outputs": [],
   "source": [
    "grade_lab1_ex2(job_sampler)"
   ]
  },
  {
   "cell_type": "code",
   "execution_count": null,
   "id": "f5de1f43-8f2f-4744-a19c-b831faa8254a",
   "metadata": {},
   "outputs": [],
   "source": [
    "plot_histogram(counts_sampler)\n"
   ]
  },
  {
   "cell_type": "code",
   "execution_count": null,
   "id": "cb4332f2-0312-41b4-9695-2abace9b11c4",
   "metadata": {},
   "outputs": [],
   "source": [
    "qc = QuantumCircuit(3)\n",
    "qc.ry(1.91063324, 0)\n",
    "qc.ch(0,1)\n",
    "qc.cx(1,2)\n",
    "qc.cx(0,1)\n",
    "qc.x(0)\n",
    "qc.measure_all()\n",
    "qc.draw('mpl')"
   ]
  },
  {
   "cell_type": "code",
   "execution_count": null,
   "id": "7a7ccc71-80bb-4dc9-9870-16054be54389",
   "metadata": {},
   "outputs": [],
   "source": [
    "grade_lab1_ex3(qc)"
   ]
  },
  {
   "cell_type": "code",
   "execution_count": null,
   "id": "259919f0-f95a-4e7d-98df-6b7b249a6644",
   "metadata": {},
   "outputs": [],
   "source": [
    "sampler = StatevectorSampler()\n",
    "pub = (qc)\n",
    "job_sampler = sampler.run([pub], shots=10000)\n",
    "\n",
    "result_sampler = job_sampler.result()\n",
    "counts_sampler = result_sampler[0].data.meas.get_counts()\n",
    "\n",
    "print(counts_sampler)\n",
    "plot_histogram(counts_sampler)"
   ]
  },
  {
   "cell_type": "code",
   "execution_count": null,
   "id": "90cbc91c-7105-4cfb-8ba2-193acdc61f57",
   "metadata": {},
   "outputs": [],
   "source": [
    "pauli_op = SparsePauliOp(['ZII', 'IZI', 'IIZ'])\n",
    "print(pauli_op.to_matrix())"
   ]
  },
  {
   "cell_type": "code",
   "execution_count": null,
   "id": "fb8eb135-f13d-44c4-9cae-b01db42dd487",
   "metadata": {},
   "outputs": [],
   "source": [
    "num_qubits = 3\n",
    "rotation_blocks = ['ry', 'rz']\n",
    "entanglement_blocks = 'cz'\n",
    "entanglement = 'full'\n",
    "\n",
    "ansatz = TwoLocal(\n",
    "    num_qubits=num_qubits,\n",
    "    rotation_blocks=rotation_blocks,\n",
    "    entanglement_blocks=entanglement_blocks,\n",
    "    entanglement=entanglement,\n",
    "    reps=1,  # Number of repetition of the rotation+entanglement blocks\n",
    "    parameter_prefix='theta'  # Parameter prefix for the rotation angles\n",
    ")\n",
    "\n",
    "\n",
    "### Don't change any code past this line ###\n",
    "ansatz.decompose().draw('mpl')"
   ]
  },
  {
   "cell_type": "code",
   "execution_count": null,
   "id": "a10cdd4e-2a01-487a-b4ed-31774262c3bd",
   "metadata": {},
   "outputs": [],
   "source": [
    "grade_lab1_ex4(num_qubits, rotation_blocks, entanglement_blocks, entanglement) # Expected result type: int, List[str], str, str\n"
   ]
  },
  {
   "cell_type": "code",
   "execution_count": null,
   "id": "5c8185fe-fcb6-4c08-8505-bc0e11043fd7",
   "metadata": {},
   "outputs": [],
   "source": [
    "num_params = ansatz.num_parameters\n",
    "num_params"
   ]
  },
  {
   "cell_type": "code",
   "execution_count": null,
   "id": "ea23ef6c-5840-49aa-9a9c-c4c146c570a2",
   "metadata": {},
   "outputs": [],
   "source": [
    "from qiskit import transpile\n",
    "backend_answer = FakeSherbrooke()\n",
    "optimization_level_answer = 0\n",
    "pm = generate_preset_pass_manager(backend=backend_answer,optimization_level=optimization_level_answer)\n",
    "isa_circuit = pm.run(ansatz)"
   ]
  },
  {
   "cell_type": "code",
   "execution_count": null,
   "id": "07989993-f567-4977-98ae-228f7ba32089",
   "metadata": {},
   "outputs": [],
   "source": [
    "grade_lab1_ex5(isa_circuit)"
   ]
  },
  {
   "cell_type": "code",
   "execution_count": null,
   "id": "cace2746-c3a1-40ef-9f54-4e8f1223c7de",
   "metadata": {},
   "outputs": [],
   "source": [
    "isa_circuit.draw('mpl', idle_wires=False,)"
   ]
  },
  {
   "cell_type": "code",
   "execution_count": null,
   "id": "443b5d33-adb9-4fea-8a75-295465706f75",
   "metadata": {},
   "outputs": [],
   "source": [
    "hamiltonian_isa = pauli_op.apply_layout(layout=isa_circuit.layout)\n"
   ]
  },
  {
   "cell_type": "code",
   "execution_count": null,
   "id": "540bfe67-8e50-4641-9750-884f59c6b3b1",
   "metadata": {},
   "outputs": [],
   "source": [
    "def cost_func(params, ansatz, hamiltonian, estimator, callback_dict):\n",
    "    \"\"\"Return estimate of energy from estimator\n",
    "\n",
    "    Parameters:\n",
    "        params (ndarray): Array of ansatz parameters\n",
    "        ansatz (QuantumCircuit): Parameterized ansatz circuit\n",
    "        hamiltonian (SparsePauliOp): Operator representation of Hamiltonian\n",
    "        estimator (EstimatorV2): Estimator primitive instance\n",
    "\n",
    "    Returns:\n",
    "        float: Energy estimate\n",
    "    \"\"\"\n",
    "    pub = (ansatz, [hamiltonian], [params])\n",
    "    result = estimator.run(pubs=[pub]).result()\n",
    "    energy = result[0].data.evs[0]\n",
    "\n",
    "    callback_dict[\"iters\"] += 1\n",
    "    callback_dict[\"prev_vector\"] = params\n",
    "    callback_dict[\"cost_history\"].append(energy)\n",
    "\n",
    "\n",
    "### Don't change any code past this line ###\n",
    "    print(energy)\n",
    "    return energy, result"
   ]
  },
  {
   "cell_type": "code",
   "execution_count": null,
   "id": "b70d0771-aa24-48d6-bdc7-f6a4534b4cce",
   "metadata": {},
   "outputs": [],
   "source": [
    "grade_lab1_ex6(cost_func)"
   ]
  },
  {
   "cell_type": "code",
   "execution_count": null,
   "id": "4bb426e5-3967-4a37-aa34-d41b47e152c2",
   "metadata": {},
   "outputs": [],
   "source": [
    "callback_dict = {\n",
    "    \"prev_vector\": None,\n",
    "    \"iters\": 0,\n",
    "    \"cost_history\": [],\n",
    "}"
   ]
  },
  {
   "cell_type": "code",
   "execution_count": null,
   "id": "eb580e19-9272-4f02-b84b-0a2941cfa37f",
   "metadata": {},
   "outputs": [],
   "source": [
    "x0 = 2 * np.pi * np.random.random(num_params)\n",
    "x0"
   ]
  },
  {
   "cell_type": "code",
   "execution_count": null,
   "id": "463f3182-de71-44fa-b292-1a7822ee8118",
   "metadata": {},
   "outputs": [],
   "source": [
    "### Select a Backend\n",
    "## Use FakeSherbrooke to simulate with noise that matches closer to the real experiment. This will run slower.\n",
    "## Use AerSimulator to simulate without noise to quickly iterate. This will run faster.\n",
    "\n",
    "backend = FakeSherbrooke()\n",
    "# backend = AerSimulator()\n",
    "\n",
    "# ### Don't change any code past this line ###\n",
    "\n",
    "# Here we have updated the cost function to return only the energy to be compatible with recent scipy versions (>=1.10)\n",
    "def cost_func_2(*args, **kwargs):\n",
    "    energy, result = cost_func(*args, **kwargs)\n",
    "    return energy\n",
    "\n",
    "with Session(backend=backend) as session:\n",
    "    estimator = Estimator(session=session)\n",
    "\n",
    "    res = minimize(\n",
    "        cost_func_2,\n",
    "        x0,\n",
    "        args=(isa_circuit, hamiltonian_isa, estimator, callback_dict),\n",
    "        method=\"cobyla\",\n",
    "        options={'maxiter': 30})"
   ]
  },
  {
   "cell_type": "code",
   "execution_count": null,
   "id": "c602eda9-32fd-45f8-9436-b89865924f21",
   "metadata": {},
   "outputs": [],
   "source": [
    "grade_lab1_ex7(res) # Expected result type: OptimizeResult\n"
   ]
  },
  {
   "cell_type": "code",
   "execution_count": null,
   "id": "9647de34-f5c4-4bec-acf9-466102932960",
   "metadata": {},
   "outputs": [],
   "source": [
    "fig, ax = plt.subplots()\n",
    "plt.plot(range(callback_dict[\"iters\"]), callback_dict[\"cost_history\"])\n",
    "plt.xlabel(\"Energy\")\n",
    "plt.ylabel(\"Cost\")\n",
    "plt.draw()"
   ]
  }
 ],
 "metadata": {
  "kernelspec": {
   "display_name": "Python 3 (ipykernel)",
   "language": "python",
   "name": "python3"
  },
  "language_info": {
   "codemirror_mode": {
    "name": "ipython",
    "version": 3
   },
   "file_extension": ".py",
   "mimetype": "text/x-python",
   "name": "python",
   "nbconvert_exporter": "python",
   "pygments_lexer": "ipython3",
   "version": "3.11.9"
  }
 },
 "nbformat": 4,
 "nbformat_minor": 5
}
